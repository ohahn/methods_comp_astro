{
 "cells": [
  {
   "cell_type": "code",
   "execution_count": 1,
   "id": "e010e41a",
   "metadata": {},
   "outputs": [],
   "source": [
    "import numpy as np\n",
    "from numba import stencil, njit"
   ]
  },
  {
   "cell_type": "markdown",
   "id": "087a2168",
   "metadata": {},
   "source": [
    "# Multigrid method for the Poisson equation\n",
    "## Multigrid method V-cycle\n",
    "The *multigrid method* overcomes the shortcoming of slow convergence \\marginnote{In Jacobi/GS updates spread ~1 cell per iteration, MG makes this exponentially fast} of the Gauss-Seidel and Jacobi methods by using a hierarchy of grids. Information propagates faster on coarse grids, and the multigrid method uses this to accelerate the convergence exponentially. It is a *multiscale method*.The multigrid methods proceeds as follows.\n",
    "\n",
    "Assume we have computed a numerical solution $\\phi^{(n)}$ in iteration $n$, then the difference w.r.t. the true solution$\\phi_\\text{true}$ is given by\n",
    "$$\n",
    "  \\chi^{(n)} = \\phi^{(n)} - \\phi_\\text{true} \\, .\n",
    "$$\n",
    "At the same time, the residual is defined as\n",
    "$$\n",
    "  r^{(n)} = \\nabla^2 \\phi^{(n)} - \\rho \\, .\n",
    "$$\n",
    "Applying the Laplacian to the error $\\chi$, we find\n",
    "$$\n",
    "  \\nabla^2 \\chi^{(n)} =  \\nabla^2 \\phi^{(n)} - \\nabla^2 \\phi_\\text{true} = r^{(n)} \\, ,\n",
    "$$\n",
    "i.e. the error satisfies the same equation as the original problem, with the residual acting as a source term, and $\\chi$ being effectively the potential of the residual. To achieve faster information propagation, we calculate the residual $r$, then we average it down to a coarser grid of resolution $N/2\\times N/2$ and solve the same problem there, then interpolate the correction back down to the fine grid. This can be extended to a full recursive sweep. The residual restricted to the coarser grid is given by a simple average of the residuals on the fine grid:\n",
    "$$\n",
    "R_{i,j} = \\frac{1}{4}\\left( r_{2i,2j} + r_{2i+1,2j} + r_{2i,2j+1} + r_{2i+1,2j+1}\\right).\n",
    "$$\n",
    "Then, we recursively solve the equation $\\nabla^2 \\chi = r$ on increasingly coarser grids, and subsequently correct the solution $\\phi$ with the correction $\\chi$ from the coarser grid, i.e. wie interpolate the correction back to the fine grid:\n",
    "$$\n",
    "\\phi^{(n+1)}_{i,j} = \\phi^{(n)}_{i,j} - \\chi^{(n)}_{i/2,j/2}\\,,\n",
    "$$\n",
    "where the indices $i/2$ and $j/2$ are rounded down to the nearest integer i.e. four fine grid points (or $2^d$ in $d$ dimensions) are corrected with the value from the same coarse grid point.\n",
    "\n",
    "This is called a *V-cycle*, and it can be used to solve the Poisson equation in a few iterations."
   ]
  },
  {
   "cell_type": "markdown",
   "id": "c68077ce",
   "metadata": {},
   "source": [
    "### Finite difference stencil and relaxation solver\n",
    "First we need to define the finite difference stencil for the Laplacian operator. And the relaxation solver that we use inside the multigrid method. We will use the red-black Gauss-Seidel method here."
   ]
  },
  {
   "cell_type": "code",
   "execution_count": 58,
   "id": "fdb05d8d",
   "metadata": {},
   "outputs": [],
   "source": [
    "# define the Laplacian operator and the matrix-vector product\n",
    "\n",
    "@stencil\n",
    "def laplacian_2d(u, h):\n",
    "    \"\"\" 5-point stencil for 2nd order FD Laplacian in 2D \"\"\"\n",
    "    return (u[0, -1] + u[-1, 0] - 4 * u[0, 0] + u[1, 0] + u[0, 1]) / h**2"
   ]
  },
  {
   "cell_type": "code",
   "execution_count": 59,
   "id": "50c55055",
   "metadata": {},
   "outputs": [],
   "source": [
    "@njit\n",
    "def gauss_seidel_sweep(u, f, h, N, icolor):\n",
    "  \"\"\"\n",
    "  Perform a single in-place Gauss-Seidel sweep on the grid.\n",
    "\n",
    "  Parameters:\n",
    "  u : ndarray\n",
    "    The current solution grid.\n",
    "  f : ndarray\n",
    "    The source term grid.\n",
    "  h : float\n",
    "    The grid spacing.\n",
    "  N : int\n",
    "    The number of interior grid points per dimension.\n",
    "  icolor : int\n",
    "    The color of the sweep (0 for red, 1 for black).\n",
    "\n",
    "  Returns:\n",
    "  ndarray\n",
    "    The updated solution grid after the Gauss-Seidel sweep.\n",
    "  \"\"\"\n",
    "  for i in range(1,N+1):\n",
    "    for j in range(1,N+1):\n",
    "      if (i+j)%2==icolor:\n",
    "        u[i,j] = 0.25*(u[i-1,j]+u[i+1,j]+u[i,j-1]+u[i,j+1]-h**2*f[i,j])\n",
    "  return u"
   ]
  },
  {
   "cell_type": "markdown",
   "id": "38211d59",
   "metadata": {},
   "source": [
    "## Multigrid recursion core function\n",
    "This function performs the following steps:\n",
    "1. Perform a few iterations of the relaxation solver on the fine grid.\n",
    "2. Compute the residual $r$.\n",
    "3. Restrict the residual to the coarser grid.\n",
    "4. Recursively call the multigrid function on the coarser grid.\n",
    "5. Interpolate the correction back to the fine grid.\n",
    "6. Perform a few iterations of the relaxation solver on the fine grid to smooth out the error.\n",
    "7. Return the updated solution."
   ]
  },
  {
   "cell_type": "code",
   "execution_count": 60,
   "id": "acb5d026",
   "metadata": {},
   "outputs": [],
   "source": [
    "@njit\n",
    "def twogrid( phi, rho, h, N, nsmooth=4 ):\n",
    "    \"\"\"\n",
    "    Perform a two-grid V-cycle to solve the Poisson equation.\n",
    "\n",
    "    Parameters:\n",
    "    phi : ndarray\n",
    "      The current solution grid.\n",
    "    rho : ndarray\n",
    "      The source term grid.\n",
    "    h : float\n",
    "      The grid spacing.\n",
    "    N : int\n",
    "      The number of interior grid points per dimension.\n",
    "    nsmooth : int, optional\n",
    "      The number of Gauss-Seidel smoothing iterations (default is 4).\n",
    "\n",
    "    Returns:\n",
    "    ndarray\n",
    "      The updated solution grid after the two-grid V-cycle.\n",
    "    \"\"\"\n",
    "    # break the recursion if we are at the coarsest grid\n",
    "    # solve directly since only one unknown\n",
    "    if N == 1:\n",
    "      phi[1,1] = -0.25*h**2*rho[1,1]\n",
    "      return phi\n",
    "\n",
    "    # do nsmooth iterations of Gauss-Seidel\n",
    "    for i in range(nsmooth):\n",
    "      phi = gauss_seidel_sweep(phi, rho, h, N, 0) # red\n",
    "      phi = gauss_seidel_sweep(phi, rho, h, N, 1) # black\n",
    "\n",
    "    # compute the residual on the fine grid\n",
    "    resid = laplacian_2d(phi,h) - rho\n",
    "\n",
    "    # restrict the residual to the coarse grid\n",
    "    resid_coarse = np.zeros((N//2+2,N//2+2))\n",
    "    resid_coarse[1:-1,1:-1] = 0.25*(resid[1:-1:2,1:-1:2] + resid[2:-1:2,1:-1:2] \\\n",
    "                                  + resid[1:-1:2,2:-1:2] + resid[2:-1:2,2:-1:2])\n",
    "\n",
    "    # solve the coarse equation to get the coarse grid correction\n",
    "    corr_coarse = np.zeros_like(resid_coarse)\n",
    "    corr_coarse = twogrid( corr_coarse, resid_coarse, h*2, N//2, nsmooth )\n",
    "\n",
    "    # correct the solution on the fine grid using the coarse grid correction\n",
    "    phi[1:-1:2,1:-1:2] -= corr_coarse[1:-1,1:-1]\n",
    "    phi[2:-1:2,1:-1:2] -= corr_coarse[1:-1,1:-1]\n",
    "    phi[1:-1:2,2:-1:2] -= corr_coarse[1:-1,1:-1]\n",
    "    phi[2:-1:2,2:-1:2] -= corr_coarse[1:-1,1:-1]\n",
    "\n",
    "    # do nsmooth iterations of Gauss-Seidel\n",
    "    for i in range(nsmooth):\n",
    "      phi = gauss_seidel_sweep(phi, rho, h, N, 0) # red\n",
    "      phi = gauss_seidel_sweep(phi, rho, h, N, 1) # black\n",
    "\n",
    "    return phi"
   ]
  },
  {
   "cell_type": "markdown",
   "id": "be2f2284",
   "metadata": {},
   "source": [
    "## Main driver function\n",
    "This function calls the recursive multigrid function for multiple iterations, checks the error, and interupts the iterations if error is small enough."
   ]
  },
  {
   "cell_type": "code",
   "execution_count": 61,
   "id": "3041eac4",
   "metadata": {},
   "outputs": [],
   "source": [
    "def solve_poisson_2d_multigrid(rho, h, tol=1e-6, nsmooth=4, maxit=20, verbose=False):\n",
    "    \"\"\"Solves the 2D Poisson equation using the multigrid method\n",
    "          with zero Dirichlet boundary conditions.\n",
    "    \n",
    "    Parameters:\n",
    "          rho (ndarray): density, shape (N+2,N+2)\n",
    "          h (float): grid spacing\n",
    "          N (int): number of grid points\n",
    "          tol (float, optional): error tolerance. Defaults to 1e-6.\n",
    "    \n",
    "    Returns:\n",
    "          ndarray: potential, shape (N+2,N+2)\n",
    "    \"\"\"\n",
    "    N = rho.shape[0]\n",
    "    phi = np.zeros((N+2,N+2))\n",
    "    # Pad f to include ghost boundaries\n",
    "    rhs = np.zeros((N + 2, N + 2))\n",
    "    rhs[1:-1, 1:-1] = rho\n",
    "\n",
    "    for it in range(maxit):\n",
    "      phi_old = phi.copy()\n",
    "      phi = twogrid(phi, rhs, h, N, nsmooth)\n",
    "      err = np.max(np.abs(phi-phi_old)) # determine L_infinity error\n",
    "      if verbose:\n",
    "        print(f'Iteration {it}: Linf error = {err:4g}')\n",
    "      if err < tol:\n",
    "         break\n",
    "    if err > tol:\n",
    "      print(f'Warning: did not converge in {it} iterations, final error = {err:4g}')\n",
    "    return phi"
   ]
  },
  {
   "cell_type": "markdown",
   "id": "aee00e32",
   "metadata": {},
   "source": [
    "## Example usage"
   ]
  },
  {
   "cell_type": "code",
   "execution_count": 62,
   "id": "03456ca6",
   "metadata": {},
   "outputs": [
    {
     "name": "stdout",
     "output_type": "stream",
     "text": [
      "Iteration 0: Linf error = 0.000202543\n",
      "Iteration 1: Linf error = 1.02356e-05\n",
      "Iteration 2: Linf error = 3.67321e-06\n",
      "Iteration 3: Linf error = 1.57954e-06\n",
      "Iteration 4: Linf error = 6.92269e-07\n"
     ]
    }
   ],
   "source": [
    "# Example usage: single point source in the center\n",
    "N = 64\n",
    "h = 1.0 / (N + 1)\n",
    "rho = np.zeros((N,N))\n",
    "rho[N//2,N//2] = 1.0\n",
    "\n",
    "phimg = solve_poisson_2d_multigrid( rho, h, tol=1e-6, verbose=True) "
   ]
  },
  {
   "cell_type": "code",
   "execution_count": 63,
   "id": "0e6d42e8",
   "metadata": {},
   "outputs": [
    {
     "data": {
      "text/plain": [
       "<matplotlib.image.AxesImage at 0x17eb62380>"
      ]
     },
     "execution_count": 63,
     "metadata": {},
     "output_type": "execute_result"
    },
    {
     "data": {
      "image/png": "[encoded data removed]",
      "text/plain": [
       "<Figure size 640x480 with 1 Axes>"
      ]
     },
     "metadata": {},
     "output_type": "display_data"
    }
   ],
   "source": [
    "import matplotlib.pyplot as plt\n",
    "fig, ax = plt.subplots()\n",
    "\n",
    "ax.imshow(phimg)"
   ]
  },
  {
   "cell_type": "code",
   "execution_count": null,
   "id": "33c0e375",
   "metadata": {},
   "outputs": [],
   "source": []
  }
 ],
 "metadata": {
  "kernelspec": {
   "display_name": "Python 3",
   "language": "python",
   "name": "python3"
  },
  "language_info": {
   "codemirror_mode": {
    "name": "ipython",
    "version": 3
   },
   "file_extension": ".py",
   "mimetype": "text/x-python",
   "name": "python",
   "nbconvert_exporter": "python",
   "pygments_lexer": "ipython3",
   "version": "3.10.17"
  }
 },
 "nbformat": 4,
 "nbformat_minor": 5
}
