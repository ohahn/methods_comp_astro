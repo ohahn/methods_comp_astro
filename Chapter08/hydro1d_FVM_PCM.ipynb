{
 "cells": [
  {
   "cell_type": "code",
   "execution_count": 1,
   "id": "2780b999",
   "metadata": {},
   "outputs": [],
   "source": [
    "import numpy as np"
   ]
  },
  {
   "cell_type": "markdown",
   "id": "256aacea",
   "metadata": {},
   "source": [
    "## The Godunov Method (PCM) method with HLL Riemann Solver fluxes in 1D\n",
    "### Hydrodynamics Recap\n",
    "We want to solve the equations of ideal hydrodynamics in one dimension given by\n",
    "\\begin{align*}\n",
    "  \\frac{\\partial \\rho}{\\partial t} + \\frac{\\partial}{\\partial x}\\left( \\rho v \\right) & =  0\\;, \\\\\n",
    "  \\frac{\\partial \\left(\\rho v_i\\right)}{\\partial t}  + \\frac{\\partial}{\\partial x}\\left(\\rho v^2  + P \\right) & = 0,\\\\%\\quad{\\color{lightgray}\\left(=\\,\\,-\\frac{\\partial P_{ij}}{\\partial x_j} + \\rho F_i\\right)}\\\\\n",
    "  \\frac{\\partial E}{\\partial t} + \\frac{\\partial}{\\partial x}\\left((E+P) v \\right) & = 0\\;.\n",
    "  \\end{align*}\n",
    "where $\\rho$ is the density, $v$ is the velocity, $P$ is the pressure, and $E$ is the total energy density, and we assemble them into a vector of conserved variables $\\boldsymbol{U} = \\left(\\rho,\\rho v, E\\right)^T$. The fluxes are given by\n",
    "\\begin{align*}\n",
    "  \\boldsymbol{F}(\\boldsymbol{U}) = \\left( \\rho v, \\rho v^2 + P, (E+P)v \\right)^T\\;.\n",
    "\\end{align*}\n",
    "The equations are closed using the equation of state for an ideal gas, which relates the pressure to the density and internal energy. The equation of state is given by\n",
    "\\begin{align*}\n",
    "  P = (\\gamma - 1) \\left( E - \\frac{1}{2} \\rho v^2 \\right)\\;.\n",
    "\\end{align*}\n",
    "Finally, the (adiabatic) sound speed is given by\n",
    "$$\n",
    "c = \\sqrt{\\left.\\frac{\\partial P}{\\partial \\rho}\\right|_{\\text{adiabatic}}} = \\sqrt{\\frac{\\gamma P}{\\rho}}\\;.\n",
    "$$\n",
    "\n",
    "### The Godunov Method\n",
    "This notebook implements the Godunov (Goduonov 1959) method using piecewise constant approximation for the interface states. As explained in detail in the lecture notes, the Godunov method is a finite volume method that uses the solution of the Riemann problem at each interface to compute the fluxes and then update the solution using a forward Euler step, i.e.\n",
    "\\begin{align*}\n",
    "\\left<\\boldsymbol{U} \\right>_i^{n+1} = \\left<\\boldsymbol{U} \\right>_i^{n} - \\frac{\\Delta t}{\\Delta x}\\,\\left( \\boldsymbol{F}_{i+1/2}^n - \\boldsymbol{F}_{i-1/2}^n\\right)\n",
    "\\end{align*}\n",
    "where $\\Delta t$ is the time step. \n",
    "\n",
    "### The HLL approximate Riemann solver\n",
    "The interface fluxes can be computed using the HLL (Harten-Lax-van Leer) approximate Riemann solver. The HLL flux is given by\n",
    "\\begin{align*}\n",
    "  \\boldsymbol{F}_{\\rm HLL}(\\boldsymbol{U}_L,\\boldsymbol{U}_R)  = \\frac{1}{2}\\left(\\boldsymbol{F}(\\boldsymbol{U}_L) + \\boldsymbol{F}(\\boldsymbol{U}_R)\\right) - \\frac{S_\\ast}{2} \\left( \\boldsymbol{U}_R - \\boldsymbol{U}_L \\right)\\;,\n",
    "\\end{align*}\n",
    "where the wave speed $S_\\ast$ is approximated by\n",
    "\\begin{align*}\n",
    "  S_\\ast = \\max\\left(S_L, S_R\\right)\\;,\n",
    "\\end{align*}\n",
    "where $S_L = |v_L| +c_L$ and $S_R = |v_R| +c_R$ are the magnitudes of the wave speeds of the left and right states, respectively. "
   ]
  },
  {
   "cell_type": "markdown",
   "id": "d3d92e00",
   "metadata": {},
   "source": [
    "### Some helper functions to compute hydrodynamic quantities"
   ]
  },
  {
   "cell_type": "code",
   "execution_count": 2,
   "id": "9133ce4f",
   "metadata": {},
   "outputs": [],
   "source": [
    "\n",
    "def prim_to_cons(Q, gamma ):\n",
    "    \"\"\"\n",
    "    Return an array of conserved hydro variables given an array of primitive variables\n",
    "    @param Q : primitive variables (Nx3: rho, v, P)\n",
    "    @return U: conserved variables (Nx3: rho, rhov, E)\n",
    "    \"\"\"\n",
    "    U = np.zeros_like(Q)\n",
    "    U[:,0] = Q[:,0]\n",
    "    U[:,1] = Q[:,0] * Q[:,1]\n",
    "    U[:,2] = Q[:,2]/(gamma-1) + 0.5 * Q[:,0] * Q[:,1]**2\n",
    "    return U\n",
    "\n",
    "def cons_to_prim(U, gamma ):\n",
    "    \"\"\"\n",
    "    Return an array of primitive hydro variables given an array of conserved variables\n",
    "    @return Q : primitive variables (Nx3: rho, v, P)\n",
    "    @param U: conserved variables (Nx3: rho, rhov, E)\n",
    "    \"\"\"\n",
    "    Q = np.zeros_like(U)\n",
    "    Q[:,0] = U[:,0]\n",
    "    Q[:,1] = U[:,1]/U[:,0]\n",
    "    Q[:,2] = (gamma-1)*(U[:,2] - 0.5 *U[...,1]**2/U[...,0])\n",
    "    return Q\n",
    "\n",
    "def get_flux_from_U( U, gamma ):\n",
    "    \"\"\"\n",
    "    Compute the flux vector from the conserved variables.\n",
    "    @param U: Conserved variables (Nx3: rho, rhov, E)\n",
    "    @param gamma: Adiabatic index\n",
    "    @return F: Flux vector (Nx3: rho*v, rhov*v + P, (E+P)*v)\n",
    "    \"\"\"\n",
    "    F = np.zeros_like(U)\n",
    "    P = (gamma-1) * (U[:,2] - 0.5 * U[:,1]**2 / U[:,0])\n",
    "    v = U[:,1] / U[:,0]\n",
    "    F[:,0] = U[:,0] * v\n",
    "    F[:,1] = U[:,1] * v + P\n",
    "    F[:,2] = (U[:,2]+P) * v\n",
    "    return F\n",
    "\n",
    "def get_cs_and_v_from_U( U, gamma ):\n",
    "    \"\"\"\n",
    "    Compute the sound speed and velocity from conserved variables.\n",
    "    @param U: Conserved variables (Nx3: rho, rhov, E)\n",
    "    @param gamma: Adiabatic index\n",
    "    @return cs: Sound speed\n",
    "    @return v: Velocity\n",
    "    \"\"\"\n",
    "    v = U[:,1] / U[:,0]\n",
    "    cs = np.sqrt( gamma*(gamma-1)*(U[:,2]/U[:,0]-0.5*v**2) )\n",
    "    return cs, v"
   ]
  },
  {
   "cell_type": "markdown",
   "id": "69662688",
   "metadata": {},
   "source": [
    "### Compute an update using the HLL fluxes"
   ]
  },
  {
   "cell_type": "code",
   "execution_count": 3,
   "id": "a7ceb2da",
   "metadata": {},
   "outputs": [],
   "source": [
    "\n",
    "def get_conservative_update( U, dx, gamma, CFLfac ):\n",
    "    \"\"\"\n",
    "    Compute the conservative update vector and the maximum allowed time step. Assumes periodic BCs.\n",
    "    This function uses the HLL (Harten-Lax-van Leer) Riemann solver to compute the fluxes.\n",
    "\n",
    "    Parameters:\n",
    "    U (numpy.ndarray): Conserved variables (Nx3: rho, rhov, E).\n",
    "    dx (float): Spatial resolution (cell width).\n",
    "    gamma (float): Adiabatic index.\n",
    "    CFLfac (float): CFL factor for time step calculation.\n",
    "\n",
    "    Returns:\n",
    "    dU (numpy.ndarray): Update vector for conserved variables (Nx3).\n",
    "    dtmax (float): Maximum allowed time step based on CFL condition.\n",
    "    \"\"\"\n",
    "    # compute the maximal allowed time step\n",
    "    cs,v = get_cs_and_v_from_U( U, gamma )\n",
    "    dtmax = CFLfac * dx / np.max( (np.abs(v)+np.abs(cs)).flatten() )\n",
    "\n",
    "    # compute left and right state (piecewise constant approx.)\n",
    "    # assume periodic BCs here, we'll fix this later in case we need\n",
    "    # to use non-periodic BCs\n",
    "    Uleft = U                     # U_L = U_i\n",
    "    Uright = np.roll(U,-1,axis=0) # U_R = U_{i+1}\n",
    "\n",
    "    # compute left and right flux from left and right states\n",
    "    # assume periodic BCs here\n",
    "    Fleft = get_flux_from_U( Uleft, gamma )   # Fleft = F( U_L )\n",
    "    Fright = get_flux_from_U( Uright, gamma ) # Fright = F( U_R )\n",
    "\n",
    "    # compute maximum signal speeds\n",
    "    Sleft = np.abs(v) + np.abs(cs)\n",
    "    Sright = np.roll(Sleft,-1)\n",
    "    Sstar = np.max((Sleft,Sright))\n",
    "\n",
    "    # compute HLL interface flux\n",
    "    FHLL = np.zeros_like(U)\n",
    "    for i in range(3): # loop over conserved variables\n",
    "        FHLL[:,i] = 0.5*(Fleft[:,i]+Fright[:,i])-0.5 * Sstar * (Uright[:,i]-Uleft[:,i])\n",
    "\n",
    "    # compute net flux in and out of cell due to left and right boundary\n",
    "    dU = -( FHLL - np.roll(FHLL,+1,axis=0)) / dx\n",
    "\n",
    "    return dU, dtmax"
   ]
  },
  {
   "cell_type": "markdown",
   "id": "2da712d3",
   "metadata": {},
   "source": [
    "### Solver main driver method"
   ]
  },
  {
   "cell_type": "code",
   "execution_count": 4,
   "id": "12a44f78",
   "metadata": {},
   "outputs": [],
   "source": [
    "def solve_hydro1D( Q_ini, tend, gamma = 5/3, CFLfac = 0.95):\n",
    "    \"\"\"\n",
    "    Solve the 1D hydrodynamics equations using the Godunov method with the HLL Riemann solver.\n",
    "\n",
    "    Parameters:\n",
    "    Q_ini (numpy.ndarray): Initial conditions for the primitive variables (Nx3: rho, v, P).\n",
    "    tend (float): End time for the simulation.\n",
    "    gamma (float, optional): Adiabatic exponent. Default is 5/3.\n",
    "    CFLfac (float, optional): CFL factor for time step calculation. Default is 0.95.\n",
    "\n",
    "    Returns:\n",
    "    numpy.ndarray: Final primitive variables (Nx3: rho, v, P) at time `tend`.\n",
    "    \"\"\"\n",
    "    \n",
    "    N = Q_ini.shape[0]\n",
    "    dx = 1/N\n",
    "    U = prim_to_cons(Q_ini, gamma) # convert to conserved variables\n",
    "\n",
    "    t = 0.0 # time counter\n",
    "    step = 0 # step counter\n",
    "    exceeded = False\n",
    "    while t<tend:\n",
    "        # compute the update vector for the primitive variables\n",
    "        dU, dtmax = get_conservative_update(U, dx, gamma, CFLfac)\n",
    "\n",
    "        # we use constant Dirichlet BCs, so we set the first and last flux to zero\n",
    "        dU[0,:] = 0\n",
    "        dU[-1,:] = 0\n",
    "        \n",
    "        # compute the time step we will use for this step\n",
    "        dt = np.min((CFLfac*dtmax, tend-t))\n",
    "            \n",
    "        # actually perform the update\n",
    "        U += dt*dU\n",
    "        t += dt\n",
    "        step += 1\n",
    "        print('Step %i, t = %.2f, dt = %.2f' % (step, t, dt), end='\\r')\n",
    "\n",
    "    print('\\n Done in %i steps'%step)\n",
    "    return cons_to_prim(U, gamma) # return primitive variables"
   ]
  },
  {
   "cell_type": "markdown",
   "id": "ed4e4a18",
   "metadata": {},
   "source": [
    "### Set up initial conditions"
   ]
  },
  {
   "cell_type": "code",
   "execution_count": 32,
   "id": "5313eb4e",
   "metadata": {},
   "outputs": [],
   "source": [
    "# define initial conditions for the Sod shock tube\n",
    "Np = 256\n",
    "rho_L = 1.0\n",
    "rho_R = 0.125\n",
    "v_L = 0.0\n",
    "v_R = 0.0\n",
    "P_L = 1.0\n",
    "P_R = 0.1\n",
    "t_end = 0.25\n",
    "\n",
    "x = np.linspace(0,1,Np)\n",
    "Q_ini = np.zeros((x.shape[0],3))\n",
    "Q_ini[:,0] = np.where(x<0.5, rho_L, rho_R) # density\n",
    "Q_ini[:,1] = np.where(x<0.5, v_L, v_R) # velocity\n",
    "Q_ini[:,2] = np.where(x<0.5, P_L, P_R ) # pressure"
   ]
  },
  {
   "cell_type": "markdown",
   "id": "76f01801",
   "metadata": {},
   "source": [
    "### Compute the solution using the Godunov method"
   ]
  },
  {
   "cell_type": "code",
   "execution_count": 33,
   "id": "ca7cdfad",
   "metadata": {},
   "outputs": [
    {
     "name": "stdout",
     "output_type": "stream",
     "text": [
      "Step 154, t = 0.25, dt = 0.00\n",
      " Done in 154 steps\n"
     ]
    }
   ],
   "source": [
    "# Compute the solution\n",
    "Q = solve_hydro1D( Q_ini, t_end, gamma=1.4, CFLfac=0.95)"
   ]
  },
  {
   "cell_type": "markdown",
   "id": "22a4e77e",
   "metadata": {},
   "source": [
    "### Compute the solution using the exact Riemann solver"
   ]
  },
  {
   "cell_type": "code",
   "execution_count": 34,
   "id": "a9c02267",
   "metadata": {},
   "outputs": [],
   "source": [
    "import riemann_exact as riemann\n",
    "\n",
    "sol = riemann.solve_riemann_exact( left_state=(rho_L, v_L, P_L), right_state=(rho_R, v_R, P_R), gamma=1.4, t=t_end, npts = 1000)"
   ]
  },
  {
   "cell_type": "markdown",
   "id": "4f8071d6",
   "metadata": {},
   "source": [
    "### Plot the solutions"
   ]
  },
  {
   "cell_type": "code",
   "execution_count": 35,
   "id": "311adf1f",
   "metadata": {},
   "outputs": [
    {
     "data": {
      "text/plain": [
       "Text(0.5, 0, 'x')"
      ]
     },
     "execution_count": 35,
     "metadata": {},
     "output_type": "execute_result"
    },
    {
     "data": {
      "image/png": "[encoded data removed]",
      "text/plain": [
       "<Figure size 400x500 with 3 Axes>"
      ]
     },
     "metadata": {},
     "output_type": "display_data"
    }
   ],
   "source": [
    "import matplotlib.pyplot as plt\n",
    "\n",
    "fig, ax = plt.subplots(3, 1, figsize=(4, 5), sharex=True, layout='constrained' )\n",
    "\n",
    "ax[0].plot(sol['x'], sol['rho'], '-', label='$\\\\rho$ (exact)')\n",
    "ax[0].plot(x, Q[:,0], '-', label='$\\\\rho$ (FV)')\n",
    "ax[0].set_ylabel('Density')\n",
    "\n",
    "ax[1].plot(sol['x'], sol['v'], '-', label='$v$ (exact)')\n",
    "ax[1].plot(x, Q[:,1], '-', label='$v$ (FV)')\n",
    "ax[1].set_ylabel('Velocity')\n",
    "\n",
    "ax[2].plot(sol['x'], sol['P'], '-', label='$P$ (exact)')\n",
    "ax[2].plot(x, Q[:,2], '-', label='$P$ (FV)')\n",
    "ax[2].set_ylabel('Pressure')\n",
    "\n",
    "for a in ax:\n",
    "    a.legend()\n",
    "    a.grid()\n",
    "plt.suptitle(f'Sod shock tube, N={Np}')\n",
    "ax[-1].set_xlabel('x')"
   ]
  },
  {
   "cell_type": "code",
   "execution_count": null,
   "id": "77e6c3a1",
   "metadata": {},
   "outputs": [],
   "source": []
  }
 ],
 "metadata": {
  "kernelspec": {
   "display_name": "Python 3",
   "language": "python",
   "name": "python3"
  },
  "language_info": {
   "codemirror_mode": {
    "name": "ipython",
    "version": 3
   },
   "file_extension": ".py",
   "mimetype": "text/x-python",
   "name": "python",
   "nbconvert_exporter": "python",
   "pygments_lexer": "ipython3",
   "version": "3.10.17"
  }
 },
 "nbformat": 4,
 "nbformat_minor": 5
}
