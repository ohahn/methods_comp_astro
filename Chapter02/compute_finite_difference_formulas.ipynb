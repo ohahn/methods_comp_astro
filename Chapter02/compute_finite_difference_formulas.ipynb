{
 "cells": [
  {
   "cell_type": "code",
   "execution_count": 1,
   "metadata": {},
   "outputs": [],
   "source": [
    "import sympy as sp\n",
    "import numpy as np"
   ]
  },
  {
   "cell_type": "code",
   "execution_count": 2,
   "metadata": {},
   "outputs": [],
   "source": [
    "def finite_difference_coefficients(stencil, derivative_order):\n",
    "    \"\"\"\n",
    "    Given a stencil (list of points, e.g. [-2,-1,0,1,2]) and an integer derivative_order n,\n",
    "    return a tuple (coeffs, accuracy) where coeffs is a list of sympy expressions representing the \n",
    "    coefficients for approximating f^(n)(0) with:\n",
    "    \n",
    "        f^(n)(0) ~ (1/h^n) * sum_i coeffs[i] * f(h*stencil[i])\n",
    "    \n",
    "    and accuracy is the order (i.e. the leading error term is O(h^(accuracy))).\n",
    "    \n",
    "    Raises a ValueError if the stencil is not large enough (i.e. if len(stencil) < derivative_order+1).\n",
    "    \"\"\"\n",
    "    m = len(stencil)\n",
    "    if m < derivative_order + 1:\n",
    "        raise ValueError(\"Stencil is not large enough to approximate derivative order %d\" % derivative_order)\n",
    "    \n",
    "    # Define symbols for the unknown weights: c0, c1, ..., c_{m-1}\n",
    "    c = sp.symbols('c0:%d' % m)\n",
    "    \n",
    "    # Set up the moment equations:\n",
    "    # For j = 0,1,...,m-1, we require:\n",
    "    #     sum_i c_i*(s_i)^j = (j! if j==derivative_order else 0)\n",
    "    eqs = []\n",
    "    for j in range(m):\n",
    "        eq = sp.Eq(sum(c[i] * (stencil[i])**j for i in range(m)),\n",
    "                   (sp.factorial(j) if j == derivative_order else 0))\n",
    "        eqs.append(eq)\n",
    "    \n",
    "    # Solve the system of equations for the coefficients\n",
    "    sol = sp.solve(eqs, c, dict=True)\n",
    "    if not sol:\n",
    "        raise ValueError(\"Could not solve for finite difference weights. Check the stencil.\")\n",
    "    sol = sol[0]\n",
    "    \n",
    "    # Extract and simplify the coefficients\n",
    "    coeffs = [sp.simplify(sol[c[i]]) for i in range(m)]\n",
    "    \n",
    "    # Determine the achieved polynomial accuracy:\n",
    "    # We find the smallest k >= m for which:\n",
    "    #   (1/k!)*sum_i c_i*(s_i)^k != (1 if k==derivative_order else 0)\n",
    "    k = m\n",
    "    while True:\n",
    "        moment = sum(sol[c[i]] * (stencil[i])**k for i in range(m)) / sp.factorial(k)\n",
    "        expected = 1 if k == derivative_order else 0\n",
    "        if sp.simplify(moment - expected) != 0:\n",
    "            break\n",
    "        k += 1\n",
    "    accuracy = k - derivative_order\n",
    "    return coeffs, accuracy\n"
   ]
  },
  {
   "cell_type": "code",
   "execution_count": 3,
   "metadata": {},
   "outputs": [
    {
     "name": "stdout",
     "output_type": "stream",
     "text": [
      "Finite difference coefficients for f^(2)(0):\n",
      "[-1/12, 4/3, -5/2, 4/3, -1/12]\n",
      "\n",
      "Achieved accuracy: O(h^(4))\n"
     ]
    }
   ],
   "source": [
    "# Example usage:\n",
    "\n",
    "# A symmetric 5-point stencil, the point at which we evaluate is at 0\n",
    "stencil = [-2, -1, 0, 1, 2]\n",
    "# we want the second derivative:\n",
    "n = 2\n",
    "\n",
    "# Compute the finite difference coefficients and print the result\n",
    "coeffs, acc = finite_difference_coefficients(stencil, n)\n",
    "sp.init_printing()\n",
    "print(\"Finite difference coefficients for f^(%d)(0):\" % n)\n",
    "sp.pprint(coeffs)\n",
    "print(\"\\nAchieved accuracy: O(h^(%d))\" % acc)"
   ]
  },
  {
   "cell_type": "code",
   "execution_count": null,
   "metadata": {},
   "outputs": [],
   "source": []
  }
 ],
 "metadata": {
  "kernelspec": {
   "display_name": "Python 3",
   "language": "python",
   "name": "python3"
  },
  "language_info": {
   "codemirror_mode": {
    "name": "ipython",
    "version": 3
   },
   "file_extension": ".py",
   "mimetype": "text/x-python",
   "name": "python",
   "nbconvert_exporter": "python",
   "pygments_lexer": "ipython3",
   "version": "3.10.16"
  }
 },
 "nbformat": 4,
 "nbformat_minor": 2
}
